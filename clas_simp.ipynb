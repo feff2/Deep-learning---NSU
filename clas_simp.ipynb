{
 "cells": [
  {
   "cell_type": "code",
   "execution_count": 1,
   "id": "b1a5cf20-d898-408d-a21d-0897b22f4e63",
   "metadata": {
    "tags": []
   },
   "outputs": [],
   "source": [
    "import cv2\n",
    "import numpy as np\n",
    "import random\n",
    "import torch\n",
    "import torchvision\n",
    "import torch.nn as nn\n",
    "import torch.optim as optim\n",
    "import pandas as pd\n",
    "import matplotlib.pyplot as plt\n",
    "import seaborn as sns\n",
    "import glob\n",
    "import torchvision.transforms.functional as F\n",
    "import os\n",
    "from imblearn.over_sampling import RandomOverSampler\n",
    "from sklearn.datasets import load_digits\n",
    "import torchmetrics.classification.accuracy\n",
    "from torch.utils.data import Dataset, DataLoader, WeightedRandomSampler\n",
    "from torchvision.datasets import ImageFolder\n",
    "from torchvision import transforms, models\n",
    "from sklearn.preprocessing import LabelEncoder\n",
    "from torch.utils.tensorboard import SummaryWriter\n",
    "from sklearn.metrics import accuracy_score, f1_score\n",
    "import time\n",
    "import hashlib\n",
    "import multiprocessing\n",
    "import pickle\n",
    "from PIL import Image, ImageDraw\n",
    "%matplotlib inline"
   ]
  },
  {
   "cell_type": "markdown",
   "id": "7f7ed13d-ba4c-49bb-8039-1803aab3b670",
   "metadata": {},
   "source": [
    "# Задача: научиться классифицировать симпсонов, то есть мы должны решить задачу мультиклассовой классификации для изображений"
   ]
  },
  {
   "cell_type": "markdown",
   "id": "f0458292-195a-4f62-92d1-c747d27a80d1",
   "metadata": {},
   "source": [
    "## определим некоторые \"константы\", которые мы будем использовать в дальнейшем"
   ]
  },
  {
   "cell_type": "code",
   "execution_count": 2,
   "id": "8d8848a6-007d-4122-bc0e-f366bfbeb81a",
   "metadata": {
    "tags": []
   },
   "outputs": [
    {
     "data": {
      "text/plain": [
       "device(type='cuda')"
      ]
     },
     "execution_count": 2,
     "metadata": {},
     "output_type": "execute_result"
    }
   ],
   "source": [
    "data_path = \"data\\simpsons_dataset\"\n",
    "test_path = \"data\\kaggle_simpson_testset\\kaggle_simpson_testset\"\n",
    "batch_size = 64\n",
    "random_seed = 42\n",
    "\n",
    "device = torch.device('cuda') if torch.cuda.is_available() else torch.device('cpu')\n",
    "device"
   ]
  },
  {
   "cell_type": "markdown",
   "id": "f508dbaf-c316-449d-b994-d7f1b5cd361b",
   "metadata": {},
   "source": [
    "# Начнем работу с нашими данными "
   ]
  },
  {
   "cell_type": "markdown",
   "id": "ee5ad6b3-0399-4c25-83e2-ba3290fa7059",
   "metadata": {},
   "source": [
    "## 1. Проверим данные на дубликаты\n",
    "## 2. Посмотрим на распределение данных уже без повторений"
   ]
  },
  {
   "cell_type": "code",
   "execution_count": 3,
   "id": "ec34e632-cc69-41e5-b158-811552958ec6",
   "metadata": {
    "tags": []
   },
   "outputs": [
    {
     "data": {
      "text/html": [
       "<div>\n",
       "<style scoped>\n",
       "    .dataframe tbody tr th:only-of-type {\n",
       "        vertical-align: middle;\n",
       "    }\n",
       "\n",
       "    .dataframe tbody tr th {\n",
       "        vertical-align: top;\n",
       "    }\n",
       "\n",
       "    .dataframe thead th {\n",
       "        text-align: right;\n",
       "    }\n",
       "</style>\n",
       "<table border=\"1\" class=\"dataframe\">\n",
       "  <thead>\n",
       "    <tr style=\"text-align: right;\">\n",
       "      <th></th>\n",
       "      <th>Class</th>\n",
       "      <th>Images</th>\n",
       "    </tr>\n",
       "  </thead>\n",
       "  <tbody>\n",
       "    <tr>\n",
       "      <th>0</th>\n",
       "      <td>abraham_grampa_simpson</td>\n",
       "      <td>[data\\simpsons_dataset\\abraham_grampa_simpson\\...</td>\n",
       "    </tr>\n",
       "    <tr>\n",
       "      <th>1</th>\n",
       "      <td>agnes_skinner</td>\n",
       "      <td>[data\\simpsons_dataset\\agnes_skinner\\pic_0000....</td>\n",
       "    </tr>\n",
       "    <tr>\n",
       "      <th>2</th>\n",
       "      <td>apu_nahasapeemapetilon</td>\n",
       "      <td>[data\\simpsons_dataset\\apu_nahasapeemapetilon\\...</td>\n",
       "    </tr>\n",
       "    <tr>\n",
       "      <th>3</th>\n",
       "      <td>barney_gumble</td>\n",
       "      <td>[data\\simpsons_dataset\\barney_gumble\\pic_0000....</td>\n",
       "    </tr>\n",
       "    <tr>\n",
       "      <th>4</th>\n",
       "      <td>bart_simpson</td>\n",
       "      <td>[data\\simpsons_dataset\\bart_simpson\\pic_0000.j...</td>\n",
       "    </tr>\n",
       "    <tr>\n",
       "      <th>5</th>\n",
       "      <td>carl_carlson</td>\n",
       "      <td>[data\\simpsons_dataset\\carl_carlson\\pic_0000.j...</td>\n",
       "    </tr>\n",
       "    <tr>\n",
       "      <th>6</th>\n",
       "      <td>charles_montgomery_burns</td>\n",
       "      <td>[data\\simpsons_dataset\\charles_montgomery_burn...</td>\n",
       "    </tr>\n",
       "    <tr>\n",
       "      <th>7</th>\n",
       "      <td>chief_wiggum</td>\n",
       "      <td>[data\\simpsons_dataset\\chief_wiggum\\pic_0000.j...</td>\n",
       "    </tr>\n",
       "    <tr>\n",
       "      <th>8</th>\n",
       "      <td>cletus_spuckler</td>\n",
       "      <td>[data\\simpsons_dataset\\cletus_spuckler\\pic_000...</td>\n",
       "    </tr>\n",
       "    <tr>\n",
       "      <th>9</th>\n",
       "      <td>comic_book_guy</td>\n",
       "      <td>[data\\simpsons_dataset\\comic_book_guy\\pic_0000...</td>\n",
       "    </tr>\n",
       "    <tr>\n",
       "      <th>10</th>\n",
       "      <td>disco_stu</td>\n",
       "      <td>[data\\simpsons_dataset\\disco_stu\\pic_0000.jpg,...</td>\n",
       "    </tr>\n",
       "    <tr>\n",
       "      <th>11</th>\n",
       "      <td>edna_krabappel</td>\n",
       "      <td>[data\\simpsons_dataset\\edna_krabappel\\pic_0000...</td>\n",
       "    </tr>\n",
       "    <tr>\n",
       "      <th>12</th>\n",
       "      <td>fat_tony</td>\n",
       "      <td>[data\\simpsons_dataset\\fat_tony\\pic_0000.jpg, ...</td>\n",
       "    </tr>\n",
       "    <tr>\n",
       "      <th>13</th>\n",
       "      <td>gil</td>\n",
       "      <td>[data\\simpsons_dataset\\gil\\pic_0000.jpg, data\\...</td>\n",
       "    </tr>\n",
       "    <tr>\n",
       "      <th>14</th>\n",
       "      <td>groundskeeper_willie</td>\n",
       "      <td>[data\\simpsons_dataset\\groundskeeper_willie\\pi...</td>\n",
       "    </tr>\n",
       "    <tr>\n",
       "      <th>15</th>\n",
       "      <td>homer_simpson</td>\n",
       "      <td>[data\\simpsons_dataset\\homer_simpson\\pic_0000....</td>\n",
       "    </tr>\n",
       "    <tr>\n",
       "      <th>16</th>\n",
       "      <td>kent_brockman</td>\n",
       "      <td>[data\\simpsons_dataset\\kent_brockman\\pic_0000....</td>\n",
       "    </tr>\n",
       "    <tr>\n",
       "      <th>17</th>\n",
       "      <td>krusty_the_clown</td>\n",
       "      <td>[data\\simpsons_dataset\\krusty_the_clown\\pic_00...</td>\n",
       "    </tr>\n",
       "    <tr>\n",
       "      <th>18</th>\n",
       "      <td>lenny_leonard</td>\n",
       "      <td>[data\\simpsons_dataset\\lenny_leonard\\pic_0000....</td>\n",
       "    </tr>\n",
       "    <tr>\n",
       "      <th>19</th>\n",
       "      <td>lionel_hutz</td>\n",
       "      <td>[data\\simpsons_dataset\\lionel_hutz\\pic_0000.jp...</td>\n",
       "    </tr>\n",
       "    <tr>\n",
       "      <th>20</th>\n",
       "      <td>lisa_simpson</td>\n",
       "      <td>[data\\simpsons_dataset\\lisa_simpson\\pic_0000.j...</td>\n",
       "    </tr>\n",
       "    <tr>\n",
       "      <th>21</th>\n",
       "      <td>maggie_simpson</td>\n",
       "      <td>[data\\simpsons_dataset\\maggie_simpson\\pic_0000...</td>\n",
       "    </tr>\n",
       "    <tr>\n",
       "      <th>22</th>\n",
       "      <td>marge_simpson</td>\n",
       "      <td>[data\\simpsons_dataset\\marge_simpson\\pic_0000....</td>\n",
       "    </tr>\n",
       "    <tr>\n",
       "      <th>23</th>\n",
       "      <td>martin_prince</td>\n",
       "      <td>[data\\simpsons_dataset\\martin_prince\\pic_0000....</td>\n",
       "    </tr>\n",
       "    <tr>\n",
       "      <th>24</th>\n",
       "      <td>mayor_quimby</td>\n",
       "      <td>[data\\simpsons_dataset\\mayor_quimby\\pic_0000.j...</td>\n",
       "    </tr>\n",
       "    <tr>\n",
       "      <th>25</th>\n",
       "      <td>milhouse_van_houten</td>\n",
       "      <td>[data\\simpsons_dataset\\milhouse_van_houten\\pic...</td>\n",
       "    </tr>\n",
       "    <tr>\n",
       "      <th>26</th>\n",
       "      <td>miss_hoover</td>\n",
       "      <td>[data\\simpsons_dataset\\miss_hoover\\pic_0000.jp...</td>\n",
       "    </tr>\n",
       "    <tr>\n",
       "      <th>27</th>\n",
       "      <td>moe_szyslak</td>\n",
       "      <td>[data\\simpsons_dataset\\moe_szyslak\\pic_0000.jp...</td>\n",
       "    </tr>\n",
       "    <tr>\n",
       "      <th>28</th>\n",
       "      <td>ned_flanders</td>\n",
       "      <td>[data\\simpsons_dataset\\ned_flanders\\pic_0000.j...</td>\n",
       "    </tr>\n",
       "    <tr>\n",
       "      <th>29</th>\n",
       "      <td>nelson_muntz</td>\n",
       "      <td>[data\\simpsons_dataset\\nelson_muntz\\pic_0000.j...</td>\n",
       "    </tr>\n",
       "    <tr>\n",
       "      <th>30</th>\n",
       "      <td>otto_mann</td>\n",
       "      <td>[data\\simpsons_dataset\\otto_mann\\pic_0000.jpg,...</td>\n",
       "    </tr>\n",
       "    <tr>\n",
       "      <th>31</th>\n",
       "      <td>patty_bouvier</td>\n",
       "      <td>[data\\simpsons_dataset\\patty_bouvier\\pic_0000....</td>\n",
       "    </tr>\n",
       "    <tr>\n",
       "      <th>32</th>\n",
       "      <td>principal_skinner</td>\n",
       "      <td>[data\\simpsons_dataset\\principal_skinner\\pic_0...</td>\n",
       "    </tr>\n",
       "    <tr>\n",
       "      <th>33</th>\n",
       "      <td>professor_john_frink</td>\n",
       "      <td>[data\\simpsons_dataset\\professor_john_frink\\pi...</td>\n",
       "    </tr>\n",
       "    <tr>\n",
       "      <th>34</th>\n",
       "      <td>rainier_wolfcastle</td>\n",
       "      <td>[data\\simpsons_dataset\\rainier_wolfcastle\\pic_...</td>\n",
       "    </tr>\n",
       "    <tr>\n",
       "      <th>35</th>\n",
       "      <td>ralph_wiggum</td>\n",
       "      <td>[data\\simpsons_dataset\\ralph_wiggum\\pic_0000.j...</td>\n",
       "    </tr>\n",
       "    <tr>\n",
       "      <th>36</th>\n",
       "      <td>selma_bouvier</td>\n",
       "      <td>[data\\simpsons_dataset\\selma_bouvier\\pic_0000....</td>\n",
       "    </tr>\n",
       "    <tr>\n",
       "      <th>37</th>\n",
       "      <td>sideshow_bob</td>\n",
       "      <td>[data\\simpsons_dataset\\sideshow_bob\\pic_0000.j...</td>\n",
       "    </tr>\n",
       "    <tr>\n",
       "      <th>38</th>\n",
       "      <td>sideshow_mel</td>\n",
       "      <td>[data\\simpsons_dataset\\sideshow_mel\\pic_0000.j...</td>\n",
       "    </tr>\n",
       "    <tr>\n",
       "      <th>39</th>\n",
       "      <td>snake_jailbird</td>\n",
       "      <td>[data\\simpsons_dataset\\snake_jailbird\\pic_0000...</td>\n",
       "    </tr>\n",
       "    <tr>\n",
       "      <th>40</th>\n",
       "      <td>troy_mcclure</td>\n",
       "      <td>[data\\simpsons_dataset\\troy_mcclure\\pic_0000.j...</td>\n",
       "    </tr>\n",
       "    <tr>\n",
       "      <th>41</th>\n",
       "      <td>waylon_smithers</td>\n",
       "      <td>[data\\simpsons_dataset\\waylon_smithers\\pic_000...</td>\n",
       "    </tr>\n",
       "  </tbody>\n",
       "</table>\n",
       "</div>"
      ],
      "text/plain": [
       "                       Class  \\\n",
       "0     abraham_grampa_simpson   \n",
       "1              agnes_skinner   \n",
       "2     apu_nahasapeemapetilon   \n",
       "3              barney_gumble   \n",
       "4               bart_simpson   \n",
       "5               carl_carlson   \n",
       "6   charles_montgomery_burns   \n",
       "7               chief_wiggum   \n",
       "8            cletus_spuckler   \n",
       "9             comic_book_guy   \n",
       "10                 disco_stu   \n",
       "11            edna_krabappel   \n",
       "12                  fat_tony   \n",
       "13                       gil   \n",
       "14      groundskeeper_willie   \n",
       "15             homer_simpson   \n",
       "16             kent_brockman   \n",
       "17          krusty_the_clown   \n",
       "18             lenny_leonard   \n",
       "19               lionel_hutz   \n",
       "20              lisa_simpson   \n",
       "21            maggie_simpson   \n",
       "22             marge_simpson   \n",
       "23             martin_prince   \n",
       "24              mayor_quimby   \n",
       "25       milhouse_van_houten   \n",
       "26               miss_hoover   \n",
       "27               moe_szyslak   \n",
       "28              ned_flanders   \n",
       "29              nelson_muntz   \n",
       "30                 otto_mann   \n",
       "31             patty_bouvier   \n",
       "32         principal_skinner   \n",
       "33      professor_john_frink   \n",
       "34        rainier_wolfcastle   \n",
       "35              ralph_wiggum   \n",
       "36             selma_bouvier   \n",
       "37              sideshow_bob   \n",
       "38              sideshow_mel   \n",
       "39            snake_jailbird   \n",
       "40              troy_mcclure   \n",
       "41           waylon_smithers   \n",
       "\n",
       "                                               Images  \n",
       "0   [data\\simpsons_dataset\\abraham_grampa_simpson\\...  \n",
       "1   [data\\simpsons_dataset\\agnes_skinner\\pic_0000....  \n",
       "2   [data\\simpsons_dataset\\apu_nahasapeemapetilon\\...  \n",
       "3   [data\\simpsons_dataset\\barney_gumble\\pic_0000....  \n",
       "4   [data\\simpsons_dataset\\bart_simpson\\pic_0000.j...  \n",
       "5   [data\\simpsons_dataset\\carl_carlson\\pic_0000.j...  \n",
       "6   [data\\simpsons_dataset\\charles_montgomery_burn...  \n",
       "7   [data\\simpsons_dataset\\chief_wiggum\\pic_0000.j...  \n",
       "8   [data\\simpsons_dataset\\cletus_spuckler\\pic_000...  \n",
       "9   [data\\simpsons_dataset\\comic_book_guy\\pic_0000...  \n",
       "10  [data\\simpsons_dataset\\disco_stu\\pic_0000.jpg,...  \n",
       "11  [data\\simpsons_dataset\\edna_krabappel\\pic_0000...  \n",
       "12  [data\\simpsons_dataset\\fat_tony\\pic_0000.jpg, ...  \n",
       "13  [data\\simpsons_dataset\\gil\\pic_0000.jpg, data\\...  \n",
       "14  [data\\simpsons_dataset\\groundskeeper_willie\\pi...  \n",
       "15  [data\\simpsons_dataset\\homer_simpson\\pic_0000....  \n",
       "16  [data\\simpsons_dataset\\kent_brockman\\pic_0000....  \n",
       "17  [data\\simpsons_dataset\\krusty_the_clown\\pic_00...  \n",
       "18  [data\\simpsons_dataset\\lenny_leonard\\pic_0000....  \n",
       "19  [data\\simpsons_dataset\\lionel_hutz\\pic_0000.jp...  \n",
       "20  [data\\simpsons_dataset\\lisa_simpson\\pic_0000.j...  \n",
       "21  [data\\simpsons_dataset\\maggie_simpson\\pic_0000...  \n",
       "22  [data\\simpsons_dataset\\marge_simpson\\pic_0000....  \n",
       "23  [data\\simpsons_dataset\\martin_prince\\pic_0000....  \n",
       "24  [data\\simpsons_dataset\\mayor_quimby\\pic_0000.j...  \n",
       "25  [data\\simpsons_dataset\\milhouse_van_houten\\pic...  \n",
       "26  [data\\simpsons_dataset\\miss_hoover\\pic_0000.jp...  \n",
       "27  [data\\simpsons_dataset\\moe_szyslak\\pic_0000.jp...  \n",
       "28  [data\\simpsons_dataset\\ned_flanders\\pic_0000.j...  \n",
       "29  [data\\simpsons_dataset\\nelson_muntz\\pic_0000.j...  \n",
       "30  [data\\simpsons_dataset\\otto_mann\\pic_0000.jpg,...  \n",
       "31  [data\\simpsons_dataset\\patty_bouvier\\pic_0000....  \n",
       "32  [data\\simpsons_dataset\\principal_skinner\\pic_0...  \n",
       "33  [data\\simpsons_dataset\\professor_john_frink\\pi...  \n",
       "34  [data\\simpsons_dataset\\rainier_wolfcastle\\pic_...  \n",
       "35  [data\\simpsons_dataset\\ralph_wiggum\\pic_0000.j...  \n",
       "36  [data\\simpsons_dataset\\selma_bouvier\\pic_0000....  \n",
       "37  [data\\simpsons_dataset\\sideshow_bob\\pic_0000.j...  \n",
       "38  [data\\simpsons_dataset\\sideshow_mel\\pic_0000.j...  \n",
       "39  [data\\simpsons_dataset\\snake_jailbird\\pic_0000...  \n",
       "40  [data\\simpsons_dataset\\troy_mcclure\\pic_0000.j...  \n",
       "41  [data\\simpsons_dataset\\waylon_smithers\\pic_000...  "
      ]
     },
     "execution_count": 3,
     "metadata": {},
     "output_type": "execute_result"
    }
   ],
   "source": [
    "image_data = {}\n",
    "\n",
    "for root, dirs, files in os.walk(data_path):\n",
    "    for file in files:\n",
    "        if file.endswith(('.png', '.jpg', '.jpeg', '.gif')):\n",
    "            class_name = os.path.basename(root)\n",
    "            if class_name not in image_data:\n",
    "                image_data[class_name] = []\n",
    "            image_data[class_name].append(os.path.join(root, file))\n",
    "\n",
    "df_images = pd.DataFrame(image_data.items(), columns=['Class', 'Images'])\n",
    "df_images"
   ]
  },
  {
   "cell_type": "code",
   "execution_count": 4,
   "id": "c8613c7c-6478-4ea2-a0da-896ea7234bad",
   "metadata": {
    "tags": []
   },
   "outputs": [
    {
     "name": "stdout",
     "output_type": "stream",
     "text": [
      "Duplicate image found: pic_0012.jpg\n",
      "Original image: data\\simpsons_dataset\\cletus_spuckler\\pic_0010.jpg\n",
      "Duplicate image: data\\simpsons_dataset\\cletus_spuckler\\pic_0012.jpg\n",
      "----------------------------------------\n",
      "Duplicate image found: pic_0262.jpg\n",
      "Original image: data\\simpsons_dataset\\lenny_leonard\\pic_0257.jpg\n",
      "Duplicate image: data\\simpsons_dataset\\lenny_leonard\\pic_0262.jpg\n",
      "----------------------------------------\n",
      "Duplicate image found: pic_0176.jpg\n",
      "Original image: data\\simpsons_dataset\\mayor_quimby\\pic_0054.jpg\n",
      "Duplicate image: data\\simpsons_dataset\\mayor_quimby\\pic_0176.jpg\n",
      "----------------------------------------\n",
      "Duplicate image found: pic_0014.jpg\n",
      "Original image: data\\simpsons_dataset\\professor_john_frink\\pic_0012.jpg\n",
      "Duplicate image: data\\simpsons_dataset\\professor_john_frink\\pic_0014.jpg\n",
      "----------------------------------------\n",
      "Duplicate image found: pic_0016.jpg\n",
      "Original image: data\\simpsons_dataset\\rainier_wolfcastle\\pic_0011.jpg\n",
      "Duplicate image: data\\simpsons_dataset\\rainier_wolfcastle\\pic_0016.jpg\n",
      "----------------------------------------\n",
      "Duplicate image found: pic_0051.jpg\n",
      "Original image: data\\simpsons_dataset\\waylon_smithers\\pic_0038.jpg\n",
      "Duplicate image: data\\simpsons_dataset\\waylon_smithers\\pic_0051.jpg\n",
      "----------------------------------------\n"
     ]
    }
   ],
   "source": [
    "#Поищем дубликаты с помощью хэша\n",
    "image_hashes = {}\n",
    "duplicates = []\n",
    "\n",
    "for root, _, files in os.walk(data_path):\n",
    "    for file in files:\n",
    "        if file.endswith(('.png', '.jpg', '.jpeg', '.gif')):\n",
    "            with open(os.path.join(root, file), 'rb') as f:\n",
    "                image_data = f.read()\n",
    "            image_hash = hashlib.md5(image_data).hexdigest()\n",
    "            \n",
    "            if image_hash in image_hashes:\n",
    "                duplicates.append({\"Original\": image_hashes[image_hash], \"Duplicate\": os.path.join(root, file)})\n",
    "                print(f\"Duplicate image found: {file}\")\n",
    "                print(f\"Original image: {image_hashes[image_hash]}\")\n",
    "                print(f\"Duplicate image: {os.path.join(root, file)}\")\n",
    "                print(\"----------------------------------------\")\n",
    "            else:\n",
    "                image_hashes[image_hash] = os.path.join(root, file)\n",
    "\n",
    "df_duplicates = pd.DataFrame(duplicates)"
   ]
  },
  {
   "cell_type": "code",
   "execution_count": 5,
   "id": "4d7568ac-f2d5-4cd4-b252-1780882bc64b",
   "metadata": {
    "tags": []
   },
   "outputs": [
    {
     "data": {
      "text/html": [
       "<div>\n",
       "<style scoped>\n",
       "    .dataframe tbody tr th:only-of-type {\n",
       "        vertical-align: middle;\n",
       "    }\n",
       "\n",
       "    .dataframe tbody tr th {\n",
       "        vertical-align: top;\n",
       "    }\n",
       "\n",
       "    .dataframe thead th {\n",
       "        text-align: right;\n",
       "    }\n",
       "</style>\n",
       "<table border=\"1\" class=\"dataframe\">\n",
       "  <thead>\n",
       "    <tr style=\"text-align: right;\">\n",
       "      <th></th>\n",
       "      <th>Original</th>\n",
       "      <th>Duplicate</th>\n",
       "    </tr>\n",
       "  </thead>\n",
       "  <tbody>\n",
       "    <tr>\n",
       "      <th>0</th>\n",
       "      <td>data\\simpsons_dataset\\cletus_spuckler\\pic_0010...</td>\n",
       "      <td>data\\simpsons_dataset\\cletus_spuckler\\pic_0012...</td>\n",
       "    </tr>\n",
       "    <tr>\n",
       "      <th>1</th>\n",
       "      <td>data\\simpsons_dataset\\lenny_leonard\\pic_0257.jpg</td>\n",
       "      <td>data\\simpsons_dataset\\lenny_leonard\\pic_0262.jpg</td>\n",
       "    </tr>\n",
       "    <tr>\n",
       "      <th>2</th>\n",
       "      <td>data\\simpsons_dataset\\mayor_quimby\\pic_0054.jpg</td>\n",
       "      <td>data\\simpsons_dataset\\mayor_quimby\\pic_0176.jpg</td>\n",
       "    </tr>\n",
       "    <tr>\n",
       "      <th>3</th>\n",
       "      <td>data\\simpsons_dataset\\professor_john_frink\\pic...</td>\n",
       "      <td>data\\simpsons_dataset\\professor_john_frink\\pic...</td>\n",
       "    </tr>\n",
       "    <tr>\n",
       "      <th>4</th>\n",
       "      <td>data\\simpsons_dataset\\rainier_wolfcastle\\pic_0...</td>\n",
       "      <td>data\\simpsons_dataset\\rainier_wolfcastle\\pic_0...</td>\n",
       "    </tr>\n",
       "    <tr>\n",
       "      <th>5</th>\n",
       "      <td>data\\simpsons_dataset\\waylon_smithers\\pic_0038...</td>\n",
       "      <td>data\\simpsons_dataset\\waylon_smithers\\pic_0051...</td>\n",
       "    </tr>\n",
       "  </tbody>\n",
       "</table>\n",
       "</div>"
      ],
      "text/plain": [
       "                                            Original  \\\n",
       "0  data\\simpsons_dataset\\cletus_spuckler\\pic_0010...   \n",
       "1   data\\simpsons_dataset\\lenny_leonard\\pic_0257.jpg   \n",
       "2    data\\simpsons_dataset\\mayor_quimby\\pic_0054.jpg   \n",
       "3  data\\simpsons_dataset\\professor_john_frink\\pic...   \n",
       "4  data\\simpsons_dataset\\rainier_wolfcastle\\pic_0...   \n",
       "5  data\\simpsons_dataset\\waylon_smithers\\pic_0038...   \n",
       "\n",
       "                                           Duplicate  \n",
       "0  data\\simpsons_dataset\\cletus_spuckler\\pic_0012...  \n",
       "1   data\\simpsons_dataset\\lenny_leonard\\pic_0262.jpg  \n",
       "2    data\\simpsons_dataset\\mayor_quimby\\pic_0176.jpg  \n",
       "3  data\\simpsons_dataset\\professor_john_frink\\pic...  \n",
       "4  data\\simpsons_dataset\\rainier_wolfcastle\\pic_0...  \n",
       "5  data\\simpsons_dataset\\waylon_smithers\\pic_0051...  "
      ]
     },
     "execution_count": 5,
     "metadata": {},
     "output_type": "execute_result"
    }
   ],
   "source": [
    "df_duplicates"
   ]
  },
  {
   "cell_type": "code",
   "execution_count": 6,
   "id": "e8e816f8-5c45-48f1-908f-bb0a9937acbb",
   "metadata": {
    "tags": []
   },
   "outputs": [],
   "source": [
    "for index, row in df_duplicates.iterrows():\n",
    "        df_images = df_images[~df_images['Images'].apply(lambda x: set(x) == set(row['Duplicate']))]"
   ]
  },
  {
   "cell_type": "code",
   "execution_count": 7,
   "id": "e349b96b-689c-443c-aa7c-2a40ab2c358e",
   "metadata": {
    "tags": []
   },
   "outputs": [
    {
     "data": {
      "text/html": [
       "<div>\n",
       "<style scoped>\n",
       "    .dataframe tbody tr th:only-of-type {\n",
       "        vertical-align: middle;\n",
       "    }\n",
       "\n",
       "    .dataframe tbody tr th {\n",
       "        vertical-align: top;\n",
       "    }\n",
       "\n",
       "    .dataframe thead th {\n",
       "        text-align: right;\n",
       "    }\n",
       "</style>\n",
       "<table border=\"1\" class=\"dataframe\">\n",
       "  <thead>\n",
       "    <tr style=\"text-align: right;\">\n",
       "      <th></th>\n",
       "      <th>Class</th>\n",
       "      <th>Image Count</th>\n",
       "    </tr>\n",
       "  </thead>\n",
       "  <tbody>\n",
       "    <tr>\n",
       "      <th>0</th>\n",
       "      <td>abraham_grampa_simpson</td>\n",
       "      <td>913</td>\n",
       "    </tr>\n",
       "    <tr>\n",
       "      <th>1</th>\n",
       "      <td>agnes_skinner</td>\n",
       "      <td>42</td>\n",
       "    </tr>\n",
       "    <tr>\n",
       "      <th>2</th>\n",
       "      <td>apu_nahasapeemapetilon</td>\n",
       "      <td>623</td>\n",
       "    </tr>\n",
       "    <tr>\n",
       "      <th>3</th>\n",
       "      <td>barney_gumble</td>\n",
       "      <td>106</td>\n",
       "    </tr>\n",
       "    <tr>\n",
       "      <th>4</th>\n",
       "      <td>bart_simpson</td>\n",
       "      <td>1342</td>\n",
       "    </tr>\n",
       "    <tr>\n",
       "      <th>5</th>\n",
       "      <td>carl_carlson</td>\n",
       "      <td>98</td>\n",
       "    </tr>\n",
       "    <tr>\n",
       "      <th>6</th>\n",
       "      <td>charles_montgomery_burns</td>\n",
       "      <td>1193</td>\n",
       "    </tr>\n",
       "    <tr>\n",
       "      <th>7</th>\n",
       "      <td>chief_wiggum</td>\n",
       "      <td>986</td>\n",
       "    </tr>\n",
       "    <tr>\n",
       "      <th>8</th>\n",
       "      <td>cletus_spuckler</td>\n",
       "      <td>47</td>\n",
       "    </tr>\n",
       "    <tr>\n",
       "      <th>9</th>\n",
       "      <td>comic_book_guy</td>\n",
       "      <td>469</td>\n",
       "    </tr>\n",
       "    <tr>\n",
       "      <th>10</th>\n",
       "      <td>disco_stu</td>\n",
       "      <td>8</td>\n",
       "    </tr>\n",
       "    <tr>\n",
       "      <th>11</th>\n",
       "      <td>edna_krabappel</td>\n",
       "      <td>457</td>\n",
       "    </tr>\n",
       "    <tr>\n",
       "      <th>12</th>\n",
       "      <td>fat_tony</td>\n",
       "      <td>27</td>\n",
       "    </tr>\n",
       "    <tr>\n",
       "      <th>13</th>\n",
       "      <td>gil</td>\n",
       "      <td>27</td>\n",
       "    </tr>\n",
       "    <tr>\n",
       "      <th>14</th>\n",
       "      <td>groundskeeper_willie</td>\n",
       "      <td>121</td>\n",
       "    </tr>\n",
       "    <tr>\n",
       "      <th>15</th>\n",
       "      <td>homer_simpson</td>\n",
       "      <td>2246</td>\n",
       "    </tr>\n",
       "    <tr>\n",
       "      <th>16</th>\n",
       "      <td>kent_brockman</td>\n",
       "      <td>498</td>\n",
       "    </tr>\n",
       "    <tr>\n",
       "      <th>17</th>\n",
       "      <td>krusty_the_clown</td>\n",
       "      <td>1206</td>\n",
       "    </tr>\n",
       "    <tr>\n",
       "      <th>18</th>\n",
       "      <td>lenny_leonard</td>\n",
       "      <td>310</td>\n",
       "    </tr>\n",
       "    <tr>\n",
       "      <th>19</th>\n",
       "      <td>lionel_hutz</td>\n",
       "      <td>3</td>\n",
       "    </tr>\n",
       "    <tr>\n",
       "      <th>20</th>\n",
       "      <td>lisa_simpson</td>\n",
       "      <td>1354</td>\n",
       "    </tr>\n",
       "    <tr>\n",
       "      <th>21</th>\n",
       "      <td>maggie_simpson</td>\n",
       "      <td>128</td>\n",
       "    </tr>\n",
       "    <tr>\n",
       "      <th>22</th>\n",
       "      <td>marge_simpson</td>\n",
       "      <td>1291</td>\n",
       "    </tr>\n",
       "    <tr>\n",
       "      <th>23</th>\n",
       "      <td>martin_prince</td>\n",
       "      <td>71</td>\n",
       "    </tr>\n",
       "    <tr>\n",
       "      <th>24</th>\n",
       "      <td>mayor_quimby</td>\n",
       "      <td>246</td>\n",
       "    </tr>\n",
       "    <tr>\n",
       "      <th>25</th>\n",
       "      <td>milhouse_van_houten</td>\n",
       "      <td>1079</td>\n",
       "    </tr>\n",
       "    <tr>\n",
       "      <th>26</th>\n",
       "      <td>miss_hoover</td>\n",
       "      <td>17</td>\n",
       "    </tr>\n",
       "    <tr>\n",
       "      <th>27</th>\n",
       "      <td>moe_szyslak</td>\n",
       "      <td>1452</td>\n",
       "    </tr>\n",
       "    <tr>\n",
       "      <th>28</th>\n",
       "      <td>ned_flanders</td>\n",
       "      <td>1454</td>\n",
       "    </tr>\n",
       "    <tr>\n",
       "      <th>29</th>\n",
       "      <td>nelson_muntz</td>\n",
       "      <td>358</td>\n",
       "    </tr>\n",
       "    <tr>\n",
       "      <th>30</th>\n",
       "      <td>otto_mann</td>\n",
       "      <td>32</td>\n",
       "    </tr>\n",
       "    <tr>\n",
       "      <th>31</th>\n",
       "      <td>patty_bouvier</td>\n",
       "      <td>72</td>\n",
       "    </tr>\n",
       "    <tr>\n",
       "      <th>32</th>\n",
       "      <td>principal_skinner</td>\n",
       "      <td>1194</td>\n",
       "    </tr>\n",
       "    <tr>\n",
       "      <th>33</th>\n",
       "      <td>professor_john_frink</td>\n",
       "      <td>65</td>\n",
       "    </tr>\n",
       "    <tr>\n",
       "      <th>34</th>\n",
       "      <td>rainier_wolfcastle</td>\n",
       "      <td>45</td>\n",
       "    </tr>\n",
       "    <tr>\n",
       "      <th>35</th>\n",
       "      <td>ralph_wiggum</td>\n",
       "      <td>89</td>\n",
       "    </tr>\n",
       "    <tr>\n",
       "      <th>36</th>\n",
       "      <td>selma_bouvier</td>\n",
       "      <td>103</td>\n",
       "    </tr>\n",
       "    <tr>\n",
       "      <th>37</th>\n",
       "      <td>sideshow_bob</td>\n",
       "      <td>877</td>\n",
       "    </tr>\n",
       "    <tr>\n",
       "      <th>38</th>\n",
       "      <td>sideshow_mel</td>\n",
       "      <td>40</td>\n",
       "    </tr>\n",
       "    <tr>\n",
       "      <th>39</th>\n",
       "      <td>snake_jailbird</td>\n",
       "      <td>55</td>\n",
       "    </tr>\n",
       "    <tr>\n",
       "      <th>40</th>\n",
       "      <td>troy_mcclure</td>\n",
       "      <td>8</td>\n",
       "    </tr>\n",
       "    <tr>\n",
       "      <th>41</th>\n",
       "      <td>waylon_smithers</td>\n",
       "      <td>181</td>\n",
       "    </tr>\n",
       "  </tbody>\n",
       "</table>\n",
       "</div>"
      ],
      "text/plain": [
       "                       Class  Image Count\n",
       "0     abraham_grampa_simpson          913\n",
       "1              agnes_skinner           42\n",
       "2     apu_nahasapeemapetilon          623\n",
       "3              barney_gumble          106\n",
       "4               bart_simpson         1342\n",
       "5               carl_carlson           98\n",
       "6   charles_montgomery_burns         1193\n",
       "7               chief_wiggum          986\n",
       "8            cletus_spuckler           47\n",
       "9             comic_book_guy          469\n",
       "10                 disco_stu            8\n",
       "11            edna_krabappel          457\n",
       "12                  fat_tony           27\n",
       "13                       gil           27\n",
       "14      groundskeeper_willie          121\n",
       "15             homer_simpson         2246\n",
       "16             kent_brockman          498\n",
       "17          krusty_the_clown         1206\n",
       "18             lenny_leonard          310\n",
       "19               lionel_hutz            3\n",
       "20              lisa_simpson         1354\n",
       "21            maggie_simpson          128\n",
       "22             marge_simpson         1291\n",
       "23             martin_prince           71\n",
       "24              mayor_quimby          246\n",
       "25       milhouse_van_houten         1079\n",
       "26               miss_hoover           17\n",
       "27               moe_szyslak         1452\n",
       "28              ned_flanders         1454\n",
       "29              nelson_muntz          358\n",
       "30                 otto_mann           32\n",
       "31             patty_bouvier           72\n",
       "32         principal_skinner         1194\n",
       "33      professor_john_frink           65\n",
       "34        rainier_wolfcastle           45\n",
       "35              ralph_wiggum           89\n",
       "36             selma_bouvier          103\n",
       "37              sideshow_bob          877\n",
       "38              sideshow_mel           40\n",
       "39            snake_jailbird           55\n",
       "40              troy_mcclure            8\n",
       "41           waylon_smithers          181"
      ]
     },
     "execution_count": 7,
     "metadata": {},
     "output_type": "execute_result"
    }
   ],
   "source": [
    "class_count = df_images.explode('Images').groupby('Class').size().reset_index(name='Image Count')\n",
    "df_image_count = pd.DataFrame(class_count)\n",
    "df_image_count"
   ]
  },
  {
   "cell_type": "code",
   "execution_count": 8,
   "id": "87e2ee5a-fd87-4db1-ba38-5d2cb2ee5aff",
   "metadata": {
    "tags": []
   },
   "outputs": [
    {
     "data": {
      "image/png": "[encoded data removed]",
      "text/plain": [
       "<Figure size 2000x500 with 1 Axes>"
      ]
     },
     "metadata": {},
     "output_type": "display_data"
    }
   ],
   "source": [
    "plot = df_image_count.plot.bar(\n",
    "    figsize=(20, 5), fontsize=8, color='limegreen', \n",
    "    edgecolor='darkblue', linewidth=1, title='Количество изображений по персонажам\\n')\n",
    "plot.title.set_size(18)\n",
    "plot.legend(loc=1, fontsize=10)\n",
    "plot.set(ylabel=None, xlabel=None)\n",
    "plot.grid()\n",
    "plt.xticks(rotation=65)\n",
    "plt.show()"
   ]
  },
  {
   "cell_type": "markdown",
   "id": "1771da5b-92e4-404e-87ef-4e1879b0f055",
   "metadata": {
    "tags": []
   },
   "source": [
    "# Видим, что у нас сильный дизбаланс классов: где-то изображений 2000, а где-то и 10 нет => придется исправить это"
   ]
  },
  {
   "cell_type": "markdown",
   "id": "b635d6c6-41f1-456b-a78a-e55bc4b10660",
   "metadata": {
    "tags": []
   },
   "source": [
    "### Также необходимо подготовить данные для передачи их модели "
   ]
  },
  {
   "cell_type": "code",
   "execution_count": 9,
   "id": "dfa2315d-4aad-45ce-b453-619e1b37343e",
   "metadata": {
    "tags": []
   },
   "outputs": [
    {
     "name": "stdout",
     "output_type": "stream",
     "text": [
      "Mean: tensor([0.4622, 0.4075, 0.3523])\n",
      "Std: tensor([0.2170, 0.1963, 0.2254])\n"
     ]
    }
   ],
   "source": [
    "transform = transforms.Compose([\n",
    "    transforms.ToTensor()\n",
    "])\n",
    "all_data = ImageFolder(data_path, transform=transform)\n",
    "all_data_loader = torch.utils.data.DataLoader(all_data, batch_size=1, shuffle=False)\n",
    "\n",
    "mean = 0.\n",
    "std = 0.\n",
    "total_images = 0\n",
    "\n",
    "for images, _ in all_data_loader:\n",
    "    batch_samples = images.size(0)\n",
    "    images = images.view(batch_samples, images.size(1), -1)\n",
    "    mean += images.mean(2).sum(0)\n",
    "    std += images.std(2).sum(0)\n",
    "    total_images += batch_samples\n",
    "\n",
    "mean /= total_images\n",
    "std /= total_images\n",
    "\n",
    "print(\"Mean:\", mean)\n",
    "print(\"Std:\", std)"
   ]
  },
  {
   "cell_type": "code",
   "execution_count": 10,
   "id": "12d015da-22b8-4100-a355-601700839a3b",
   "metadata": {
    "tags": []
   },
   "outputs": [],
   "source": [
    "class SquarePad:\n",
    "    def __call__(self, image):\n",
    "        w, h = image.size\n",
    "        max_wh = np.max([w, h])\n",
    "        hp = int((max_wh - w) / 2)\n",
    "        vp = int((max_wh - h) / 2)\n",
    "        padding = (hp, vp, hp, vp)\n",
    "        return F.pad(image, padding, 0, 'edge')"
   ]
  },
  {
   "cell_type": "code",
   "execution_count": 11,
   "id": "db136a6b-0123-4cf9-9a7c-f22cc6b5bd94",
   "metadata": {
    "tags": []
   },
   "outputs": [],
   "source": [
    "class SimpsonsDataset(Dataset):\n",
    "    \n",
    "    \"\"\"\n",
    "    Данный класс подгтавливает наш датасет к обучению:\n",
    "    загружает изображений, аугментрует их, нормализует, \n",
    "    затем передает модели изображение с его меткой\n",
    "    \"\"\"\n",
    "    \n",
    "    def __init__(self, files,  mode):\n",
    "        super().__init__()\n",
    "        self.files = sorted(files)\n",
    "        self.mode = mode\n",
    "        self.l_e = LabelEncoder()\n",
    "        self.rescale_size = 244\n",
    "        self.labels=[]\n",
    "        if self.mode != 'test':\n",
    "            self.labels = [path.parent.name for path in self.files]\n",
    "            self.l_e.fit(self.labels)\n",
    "\n",
    "            with open('label_encoder.pkl', 'wb') as le_dump_file:\n",
    "                pickle.dump(self.l_e, le_dump_file)\n",
    "        else:\n",
    "            self.filenames = [path.name for path in test_files]\n",
    "            for file in self.filenames:\n",
    "                self.class_name=\"\"\n",
    "                self.parts = str(file).split('_')\n",
    "                for part in self.parts:\n",
    "                    if '.' in part:\n",
    "                        break\n",
    "                    self.class_name += part + '_'\n",
    "                self.labels.append(self.class_name.rstrip('_'))\n",
    "            \n",
    "            with open('label_encoder.pkl', 'rb') as file:\n",
    "                self.l_e = pickle.load(file)\n",
    "            \n",
    "            \n",
    "            \n",
    "    def __len__(self):\n",
    "        return len(self.files)\n",
    "    \n",
    "    def create_transformer(self):\n",
    "        if self.mode == \"train\":\n",
    "            transformer = transforms.Compose([\n",
    "                SquarePad(),\n",
    "                transforms.Resize(size=(self.rescale_size, self.rescale_size)),\n",
    "                transforms.RandomRotation(15),\n",
    "                transforms.RandomChoice([\n",
    "                    transforms.RandomHorizontalFlip(p=0.5),\n",
    "                    transforms.ColorJitter(brightness=0.4, contrast=0.4, saturation=0.4, hue=0.1),\n",
    "                    transforms.RandomApply([transforms.RandomHorizontalFlip(\n",
    "                        p=0.5), transforms.ColorJitter(contrast=0.9)], p=0.5),\n",
    "                    transforms.RandomApply([transforms.RandomHorizontalFlip(\n",
    "                        p=0.5), transforms.ColorJitter(brightness=0.1)], p=0.5),\n",
    "                ]),\n",
    "                transforms.ToTensor(),\n",
    "                transforms.Normalize([0.4622, 0.4075, 0.3523], \n",
    "                                     [0.2170, 0.1963, 0.2254])\n",
    "            ])\n",
    "        else:\n",
    "            transformer = transforms.Compose([\n",
    "                transforms.Resize(size=(self.rescale_size, self.rescale_size)),\n",
    "                transforms.ToTensor(),\n",
    "                transforms.Normalize([0.4622, 0.4075, 0.3523], \n",
    "                                     [0.2170, 0.1963, 0.2254])\n",
    "            ])\n",
    "        return transformer\n",
    "    \n",
    "    def load_sample(self, im_file):\n",
    "        image = Image.open(im_file)\n",
    "        image.load()\n",
    "        return image\n",
    "    \n",
    "    def __getitem__(self, idx):\n",
    "        transform = self.create_transformer()    \n",
    "        x = self.load_sample(self.files[idx])\n",
    "        x = transform(x)\n",
    "        label = self.labels[idx]\n",
    "        label_id = self.l_e.transform([label])\n",
    "        y = label_id.item()\n",
    "        return x, y"
   ]
  },
  {
   "cell_type": "code",
   "execution_count": 12,
   "id": "7d7c640f-2d72-41af-9e9b-10898eaa3356",
   "metadata": {
    "tags": []
   },
   "outputs": [],
   "source": [
    "from pathlib import Path\n",
    "\n",
    "train_val_files_lst = []\n",
    "images_lst = sorted(df_images['Images'].tolist())\n",
    "train_val_files_lst = [Path(item) for sublist in images_lst for item in sublist]"
   ]
  },
  {
   "cell_type": "code",
   "execution_count": 13,
   "id": "5906c633-a0f6-4d63-abaf-29bfdcd949cc",
   "metadata": {
    "tags": []
   },
   "outputs": [],
   "source": [
    "from sklearn.model_selection import train_test_split\n",
    "\n",
    "train_val_labels = [path.parent.name for path in train_val_files_lst]\n",
    "train_files, val_files = train_test_split(train_val_files_lst, test_size=0.2, random_state=random_seed, stratify=train_val_labels)"
   ]
  },
  {
   "cell_type": "code",
   "execution_count": 14,
   "id": "ff9d5165-f8db-4fd7-86f2-05e675c82f1b",
   "metadata": {
    "tags": []
   },
   "outputs": [],
   "source": [
    "train_dataset = SimpsonsDataset(train_files, mode=\"train\")\n",
    "val_dataset = SimpsonsDataset(val_files, mode=\"val\")"
   ]
  },
  {
   "cell_type": "markdown",
   "id": "1983eaec-22fc-4e03-a502-b3778af8b376",
   "metadata": {},
   "source": [
    "# Вернемся к решению проблемы дизбаланса классов. Я использую oversampling: продублируем пути изображений для классов, чье кол-во меньше 100. Это не должно привести к переобучению, тк я использую online аугментацию."
   ]
  },
  {
   "cell_type": "code",
   "execution_count": 15,
   "id": "e146af6b-e9d4-4b91-8740-388e95eba8cb",
   "metadata": {
    "tags": []
   },
   "outputs": [],
   "source": [
    "dct_train = {}\n",
    "train_labels = list(set([path.parent.name for path in train_files]))\n",
    "\n",
    "for label in train_labels:\n",
    "    dct_train[label] = []\n",
    "\n",
    "for path, label in zip(train_files, train_labels):\n",
    "    if label not in dct_train: \n",
    "        dct_train[label] = []\n",
    "    else:\n",
    "        dct_train[label].append(path)"
   ]
  },
  {
   "cell_type": "code",
   "execution_count": 16,
   "id": "00429cec-d02b-4434-bbdc-2be6501cc662",
   "metadata": {
    "tags": []
   },
   "outputs": [],
   "source": [
    "for label in dct_train:\n",
    "    if len(dct_train[label]) < 100:\n",
    "        dct_train[label] = dct_train[label] * \\\n",
    "        (100 // len(dct_train[label]))\n",
    "        dct_train[label].extend(dct_train[label][:100 - len(dct_train[label])])"
   ]
  },
  {
   "cell_type": "markdown",
   "id": "13d29ba4-5cb4-4504-86ec-13403ec9395b",
   "metadata": {},
   "source": [
    "# Будем использовать готовую архетиктуру ResNet152 "
   ]
  },
  {
   "cell_type": "code",
   "execution_count": 17,
   "id": "607d0c06-930a-46b5-8021-af1ba5b62767",
   "metadata": {
    "tags": []
   },
   "outputs": [],
   "source": [
    "def set_parameter_requires_grad(model, feature_extracting = False):\n",
    "    if feature_extracting:\n",
    "        for param in model.parameters():\n",
    "            param.requires_grad = False"
   ]
  },
  {
   "cell_type": "code",
   "execution_count": 18,
   "id": "6d19f402-f823-49c8-8a63-17f534519924",
   "metadata": {
    "tags": []
   },
   "outputs": [],
   "source": [
    "def initialize_model():\n",
    "    model = None\n",
    "    num_classes = len(pd.unique(train_val_labels))\n",
    "    model = models.resnet50()\n",
    "    set_parameter_requires_grad(model)\n",
    "    num_ftrs = model.fc.in_features\n",
    "    model.fc = nn.Linear(num_ftrs, num_classes)\n",
    "    return model"
   ]
  },
  {
   "cell_type": "code",
   "execution_count": 19,
   "id": "42b611ae-ce02-4d6e-91c9-06d628dd7039",
   "metadata": {
    "tags": []
   },
   "outputs": [],
   "source": [
    "def calculate_loss(model, loader, criterion):\n",
    "    model.eval()\n",
    "    total_loss = 0.0\n",
    "    with torch.no_grad():\n",
    "        for inputs, labels in loader:\n",
    "            inputs = inputs.to(device)\n",
    "            labels = labels.to(device)\n",
    "            outputs = model(inputs)\n",
    "            loss = criterion(outputs, labels)\n",
    "    return loss"
   ]
  },
  {
   "cell_type": "code",
   "execution_count": 20,
   "id": "6419249e-9b17-4e70-bc64-e148699beb95",
   "metadata": {
    "tags": []
   },
   "outputs": [],
   "source": [
    "dataloaders = {'train': DataLoader(train_dataset, batch_size=batch_size, shuffle=True),\n",
    "                   'val': DataLoader(val_dataset, batch_size=batch_size, shuffle=False )}"
   ]
  },
  {
   "cell_type": "code",
   "execution_count": 21,
   "id": "6b5877cb-9584-4fcc-a199-e466059c4698",
   "metadata": {
    "tags": []
   },
   "outputs": [
    {
     "name": "stdout",
     "output_type": "stream",
     "text": [
      "Epoch: 1\n",
      "Train_loss: 2.8533575534820557\n",
      "Loader: train. Accuracy: 0.17359369401648156. Time_mins:1.7231557369232178 \n",
      "Loader: val. Accuracy: 0.30714115118223073. Time_mins:0.2682453791300456 \n",
      "Val_loss: 4.969028472900391\n",
      "Epoch: 2\n",
      "Train_loss: 2.005876302719116\n",
      "Loader: train. Accuracy: 0.4004538397229189. Time_mins:1.7261931896209717 \n",
      "Loader: val. Accuracy: 0.4067351325531407. Time_mins:0.26764564514160155 \n",
      "Val_loss: 6.45706844329834\n",
      "Epoch: 3\n",
      "Train_loss: 2.1423916816711426\n",
      "Loader: train. Accuracy: 0.584736653529201. Time_mins:1.7086474617322287 \n",
      "Loader: val. Accuracy: 0.5989968951516599. Time_mins:0.26851235230763754 \n",
      "Val_loss: 3.628661870956421\n",
      "Epoch: 4\n",
      "Train_loss: 1.1702866554260254\n",
      "Loader: train. Accuracy: 0.6986743102830527. Time_mins:1.7180845737457275 \n",
      "Loader: val. Accuracy: 0.7062335801289706. Time_mins:0.26957947413126626 \n",
      "Val_loss: 5.031832695007324\n",
      "Epoch: 5\n",
      "Train_loss: 1.4367554187774658\n",
      "Loader: train. Accuracy: 0.762809029021856. Time_mins:1.7112864931424459 \n",
      "Loader: val. Accuracy: 0.7110102698829711. Time_mins:0.2666122237841288 \n",
      "Val_loss: 3.5538296699523926\n",
      "Epoch: 6\n",
      "Train_loss: 0.7505562901496887\n",
      "Loader: train. Accuracy: 0.7946375253791951. Time_mins:1.7104571183522543 \n",
      "Loader: val. Accuracy: 0.7831382851683784. Time_mins:0.2655283689498901 \n",
      "Val_loss: 2.119929552078247\n",
      "Epoch: 7\n",
      "Train_loss: 0.7721216082572937\n",
      "Loader: train. Accuracy: 0.8322584497790517. Time_mins:1.7120414853096009 \n",
      "Loader: val. Accuracy: 0.7482684499641749. Time_mins:0.268412188688914 \n",
      "Val_loss: 1.0134328603744507\n",
      "Epoch: 8\n",
      "Train_loss: 0.5212894082069397\n",
      "Loader: train. Accuracy: 0.8528006688164338. Time_mins:1.7089058915774027 \n",
      "Loader: val. Accuracy: 0.840458562216384. Time_mins:0.2655953208605448 \n",
      "Val_loss: 0.9975146651268005\n",
      "Epoch: 9\n",
      "Train_loss: 0.34565064311027527\n",
      "Loader: train. Accuracy: 0.8752537919503165. Time_mins:1.713286821047465 \n",
      "Loader: val. Accuracy: 0.8516837831382852. Time_mins:0.2667785048484802 \n",
      "Val_loss: 0.8966835141181946\n",
      "Epoch: 10\n",
      "Train_loss: 0.5342392325401306\n",
      "Loader: train. Accuracy: 0.8870775110474143. Time_mins:1.7307393352190654 \n",
      "Loader: val. Accuracy: 0.8593264867446859. Time_mins:0.2634111205736796 \n",
      "Val_loss: 1.3796952962875366\n"
     ]
    }
   ],
   "source": [
    "model = initialize_model().to(device)\n",
    "base_lr = 0.001\n",
    "num_epochs = 10\n",
    "criterion = nn.CrossEntropyLoss()\n",
    "optimizer = optim.AdamW(model.parameters(), lr=0.001, weight_decay=0.001, amsgrad=True)\n",
    "scheduler = torch.optim.lr_scheduler.ReduceLROnPlateau(optimizer, mode='min', factor=0.1, patience=5)\n",
    "\n",
    "accuracy = {\"train\": [], \"val\": []}\n",
    "loss_dict = {\"train\": [], \"val\": []}\n",
    "start_time = 0\n",
    "end_time = 0\n",
    "\n",
    "for epoch in range(num_epochs):\n",
    "    for k, dataloader in dataloaders.items():\n",
    "        start_time = time.time()\n",
    "        epoch_correct = 0\n",
    "        epoch_all = 0\n",
    "        for x_batch, y_batch in dataloader:\n",
    "            x_batch = x_batch.to(device)\n",
    "            y_batch = y_batch.to(device)\n",
    "            if k == \"train\":\n",
    "                model.train()\n",
    "                optimizer.zero_grad()\n",
    "                outp = model(x_batch)\n",
    "            else:\n",
    "                model.eval()\n",
    "                with torch.no_grad():\n",
    "                    outp = model(x_batch)\n",
    "            preds = outp.argmax(-1)\n",
    "            correct = (preds.detach() == y_batch).sum(dim=0)\n",
    "            all = y_batch.size(0)\n",
    "            epoch_correct += correct.item()\n",
    "            epoch_all += all\n",
    "            if k == \"train\":\n",
    "                loss = criterion(outp, y_batch)\n",
    "                loss.backward()\n",
    "                optimizer.step()\n",
    "        end_time = time.time()\n",
    "        if k == \"train\":\n",
    "            print(f\"Epoch: {epoch+1}\")\n",
    "            loss_dict[k].append(calculate_loss(model,dataloaders[k], criterion))\n",
    "            print(f\"Train_loss: {loss_dict[k][-1]}\")\n",
    "        print(f\"Loader: {k}. Accuracy: {epoch_correct/epoch_all}. Time_mins:{(end_time - start_time)/60} \")\n",
    "        accuracy[k].append(epoch_correct/epoch_all)\n",
    "    if k == 'val' in dataloaders:\n",
    "        loss_dict[k].append(calculate_loss(model,dataloaders[k], criterion))\n",
    "        print(f\"Val_loss: {loss_dict[k][-1]}\")\n",
    "    scheduler.step(loss_dict[\"val\"][-1])\n",
    "\n",
    "\n",
    "del x_batch\n",
    "del y_batch\n",
    "torch.cuda.empty_cache()"
   ]
  },
  {
   "cell_type": "markdown",
   "id": "8297d5de-f760-4633-88d1-6eec2893bd17",
   "metadata": {},
   "source": [
    "# Теперь можем замерить f1-score, чтобы оценить качество нашей модели"
   ]
  },
  {
   "cell_type": "code",
   "execution_count": 22,
   "id": "1b5afd24-aeeb-4e06-8739-702b9df9a56e",
   "metadata": {
    "tags": []
   },
   "outputs": [],
   "source": [
    "test_files = sorted(Path(test_path).rglob('*.jpg'))\n",
    "test_dataset = SimpsonsDataset(test_files, mode=\"test\")\n",
    "test_loader = DataLoader(test_dataset, shuffle=False, batch_size=batch_size)"
   ]
  },
  {
   "cell_type": "code",
   "execution_count": 23,
   "id": "ba313560-544f-4600-a900-633597b8e295",
   "metadata": {
    "tags": []
   },
   "outputs": [],
   "source": [
    "def predict(model, test_loader):\n",
    "    with torch.no_grad():\n",
    "        logits = []\n",
    "\n",
    "        for inputs in test_loader:\n",
    "            inputs = inputs.to(device)\n",
    "            model.eval()\n",
    "            outputs = model(inputs).cpu()\n",
    "            logits.append(outputs)\n",
    "\n",
    "    probs = nn.functional.softmax(torch.cat(logits), dim=-1).numpy()\n",
    "    return probs"
   ]
  },
  {
   "cell_type": "code",
   "execution_count": 24,
   "id": "150f162d-8c7c-4776-bc66-112b86f83072",
   "metadata": {
    "tags": []
   },
   "outputs": [],
   "source": [
    "from sklearn.metrics import f1_score, precision_score, roc_curve, auc\n",
    "\n",
    "def make_f1_score(model,dataset):\n",
    "\n",
    "    n=len(dataset)\n",
    "    idxs = list(map(int, np.random.uniform(0, n, n)))\n",
    "    imgs = [dataset[id][0].unsqueeze(0) for id in idxs]\n",
    "\n",
    "    probs_ims = predict(model, imgs)\n",
    "    y_pred = np.argmax(probs_ims, -1)\n",
    "\n",
    "    actual_labels = [dataset[id][1] for id in idxs]\n",
    "    preds_class = list(y_pred)\n",
    "    \n",
    "    actual_labels = [dataset[id][1] for id in idxs]\n",
    "    preds_class = list(y_pred)\n",
    "\n",
    "    f1_micro = round(f1_score(actual_labels, preds_class, average='micro'), 3)\n",
    "    precision_per_class = precision_score(actual_labels, preds_class, average=None)\n",
    "\n",
    "    num_classes = len(list(set(actual_labels)))\n",
    "    fpr = dict()\n",
    "    tpr = dict()\n",
    "    roc_auc = dict()\n",
    "    for i in range(num_classes):  # Assuming num_classes is defined\n",
    "        fpr[i], tpr[i], _ = roc_curve(actual_labels, probs_ims[:, i], pos_label=i)\n",
    "        roc_auc[i] = auc(fpr[i], tpr[i])\n",
    "\n",
    "    plt.figure()\n",
    "    lw = 2\n",
    "    colors = ['b', 'g', 'r', 'c', 'm', 'y', 'k']\n",
    "    for i, color in zip(range(num_classes), colors):\n",
    "        plt.plot(fpr[i], tpr[i], color=color, lw=lw, label='ROC curve (area = %0.2f)' % roc_auc[i])\n",
    "    plt.plot([0, 1], [0, 1], color='gray', lw=lw, linestyle='--')\n",
    "    plt.xlim([0.0, 1.0])\n",
    "    plt.ylim([0.0, 1.05])\n",
    "    plt.xlabel('False Positive Rate')\n",
    "    plt.ylabel('True Positive Rate')\n",
    "    plt.title('Receiver Operating Characteristic')\n",
    "    plt.legend(loc=\"lower right\")\n",
    "    plt.show()\n",
    "\n",
    "    return f1_micro, precision_per_class"
   ]
  },
  {
   "cell_type": "code",
   "execution_count": 25,
   "id": "c12c7207-060a-4a9a-8477-f2a711a96bab",
   "metadata": {
    "tags": []
   },
   "outputs": [
    {
     "name": "stderr",
     "output_type": "stream",
     "text": [
      "C:\\Users\\user\\anaconda3\\Lib\\site-packages\\sklearn\\metrics\\_classification.py:1509: UndefinedMetricWarning: Precision is ill-defined and being set to 0.0 in labels with no predicted samples. Use `zero_division` parameter to control this behavior.\n",
      "  _warn_prf(average, modifier, f\"{metric.capitalize()} is\", len(result))\n",
      "C:\\Users\\user\\anaconda3\\Lib\\site-packages\\sklearn\\metrics\\_ranking.py:1146: UndefinedMetricWarning: No positive samples in y_true, true positive value should be meaningless\n",
      "  warnings.warn(\n"
     ]
    },
    {
     "data": {
      "image/png": "[encoded data removed]",
      "text/plain": [
       "<Figure size 640x480 with 1 Axes>"
      ]
     },
     "metadata": {},
     "output_type": "display_data"
    }
   ],
   "source": [
    "f1_val_micro, f1_val_per_class = make_f1_score(model, val_dataset)"
   ]
  },
  {
   "cell_type": "code",
   "execution_count": 26,
   "id": "4934e8b7-ece6-4a5a-8109-255a7d7383b9",
   "metadata": {
    "tags": []
   },
   "outputs": [
    {
     "data": {
      "text/plain": [
       "array([0.83823529, 0.42857143, 0.84210526, 1.        , 0.85654008,\n",
       "       0.55172414, 0.76446281, 1.        , 0.        , 0.85915493,\n",
       "       0.        , 0.5890411 , 0.66666667, 0.        , 0.71428571,\n",
       "       0.86929461, 0.95876289, 0.97478992, 0.91666667, 0.87903226,\n",
       "       0.86206897, 0.91187739, 0.41666667, 0.8245614 , 0.97461929,\n",
       "       0.        , 0.81791045, 0.9754386 , 0.97619048, 0.14814815,\n",
       "       0.57894737, 0.79435484, 0.53333333, 1.        , 0.77777778,\n",
       "       1.        , 0.85875706, 0.5       , 1.        , 0.        ,\n",
       "       0.74285714])"
      ]
     },
     "execution_count": 26,
     "metadata": {},
     "output_type": "execute_result"
    }
   ],
   "source": [
    "f1_val_per_class"
   ]
  },
  {
   "cell_type": "code",
   "execution_count": 27,
   "id": "d2f2bc5e-751b-4188-9018-9c2438d204e5",
   "metadata": {
    "tags": []
   },
   "outputs": [
    {
     "data": {
      "text/plain": [
       "0.858"
      ]
     },
     "execution_count": 27,
     "metadata": {},
     "output_type": "execute_result"
    }
   ],
   "source": [
    "f1_val_micro"
   ]
  },
  {
   "cell_type": "code",
   "execution_count": 28,
   "id": "d426750f-cbde-4c68-8e1a-98c5c0895c7b",
   "metadata": {
    "tags": []
   },
   "outputs": [
    {
     "name": "stderr",
     "output_type": "stream",
     "text": [
      "C:\\Users\\user\\anaconda3\\Lib\\site-packages\\sklearn\\metrics\\_ranking.py:1146: UndefinedMetricWarning: No positive samples in y_true, true positive value should be meaningless\n",
      "  warnings.warn(\n",
      "C:\\Users\\user\\anaconda3\\Lib\\site-packages\\sklearn\\metrics\\_ranking.py:1146: UndefinedMetricWarning: No positive samples in y_true, true positive value should be meaningless\n",
      "  warnings.warn(\n",
      "C:\\Users\\user\\anaconda3\\Lib\\site-packages\\sklearn\\metrics\\_ranking.py:1146: UndefinedMetricWarning: No positive samples in y_true, true positive value should be meaningless\n",
      "  warnings.warn(\n",
      "C:\\Users\\user\\anaconda3\\Lib\\site-packages\\sklearn\\metrics\\_ranking.py:1146: UndefinedMetricWarning: No positive samples in y_true, true positive value should be meaningless\n",
      "  warnings.warn(\n",
      "C:\\Users\\user\\anaconda3\\Lib\\site-packages\\sklearn\\metrics\\_ranking.py:1146: UndefinedMetricWarning: No positive samples in y_true, true positive value should be meaningless\n",
      "  warnings.warn(\n",
      "C:\\Users\\user\\anaconda3\\Lib\\site-packages\\sklearn\\metrics\\_ranking.py:1146: UndefinedMetricWarning: No positive samples in y_true, true positive value should be meaningless\n",
      "  warnings.warn(\n",
      "C:\\Users\\user\\anaconda3\\Lib\\site-packages\\sklearn\\metrics\\_ranking.py:1146: UndefinedMetricWarning: No positive samples in y_true, true positive value should be meaningless\n",
      "  warnings.warn(\n",
      "C:\\Users\\user\\anaconda3\\Lib\\site-packages\\sklearn\\metrics\\_ranking.py:1146: UndefinedMetricWarning: No positive samples in y_true, true positive value should be meaningless\n",
      "  warnings.warn(\n",
      "C:\\Users\\user\\anaconda3\\Lib\\site-packages\\sklearn\\metrics\\_ranking.py:1146: UndefinedMetricWarning: No positive samples in y_true, true positive value should be meaningless\n",
      "  warnings.warn(\n"
     ]
    },
    {
     "data": {
      "image/png": "[encoded data removed]",
      "text/plain": [
       "<Figure size 640x480 with 1 Axes>"
      ]
     },
     "metadata": {},
     "output_type": "display_data"
    }
   ],
   "source": [
    "f1_test_micro,f1_test_per_class  = make_f1_score(model, test_dataset)"
   ]
  },
  {
   "cell_type": "code",
   "execution_count": 29,
   "id": "558ba381-cc38-4520-8604-7f4ad336dd5b",
   "metadata": {
    "tags": []
   },
   "outputs": [
    {
     "data": {
      "text/plain": [
       "0.871"
      ]
     },
     "execution_count": 29,
     "metadata": {},
     "output_type": "execute_result"
    }
   ],
   "source": [
    "f1_test_micro  "
   ]
  },
  {
   "cell_type": "code",
   "execution_count": 30,
   "id": "1943171f-50fa-4084-952e-7fe426a801a0",
   "metadata": {
    "tags": []
   },
   "outputs": [
    {
     "data": {
      "text/plain": [
       "array([0.88636364, 0.        , 0.86666667, 0.82857143, 0.        ,\n",
       "       0.93333333, 1.        , 0.95      , 0.89830508, 0.        ,\n",
       "       0.        , 0.84313725, 0.95      , 0.8627451 , 0.92307692,\n",
       "       0.72340426, 0.        , 0.97727273, 0.93103448, 1.        ,\n",
       "       0.8115942 , 0.8627451 , 0.97297297, 0.        , 0.77777778,\n",
       "       0.85      , 0.        ])"
      ]
     },
     "execution_count": 30,
     "metadata": {},
     "output_type": "execute_result"
    }
   ],
   "source": [
    "f1_test_per_class"
   ]
  },
  {
   "cell_type": "code",
   "execution_count": 31,
   "id": "c90e6aca-4102-4d43-9326-294ac24c4cd5",
   "metadata": {
    "tags": []
   },
   "outputs": [],
   "source": [
    "torch.save(model.state_dict(), 'model.pth')"
   ]
  },
  {
   "cell_type": "code",
   "execution_count": null,
   "id": "3e449190-e47e-4be5-859d-80a24edb5155",
   "metadata": {},
   "outputs": [],
   "source": [
    "0.83 0.90"
   ]
  }
 ],
 "metadata": {
  "kernelspec": {
   "display_name": "Python 3 (ipykernel)",
   "language": "python",
   "name": "python3"
  },
  "language_info": {
   "codemirror_mode": {
    "name": "ipython",
    "version": 3
   },
   "file_extension": ".py",
   "mimetype": "text/x-python",
   "name": "python",
   "nbconvert_exporter": "python",
   "pygments_lexer": "ipython3",
   "version": "3.11.5"
  }
 },
 "nbformat": 4,
 "nbformat_minor": 5
}
